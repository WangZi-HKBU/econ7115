# A Quantifiable Trade Model with Variable Markups and Entry Costs
## Preference
Consider $N$ countries, indexed by $i = 1,\ldots,N$, with labor $\left(L_i\right)_{i=1}^N$. The representiave consumer in country $n$ has the following utility function:
<div align="center">$$
\int_{\omega\in\Omega_n}H\left(\frac{q_n(\omega)}{Q_n}\right)d\omega = 1
$$</div>
